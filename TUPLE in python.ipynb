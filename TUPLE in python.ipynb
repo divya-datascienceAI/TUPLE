{
 "cells": [
  {
   "cell_type": "markdown",
   "id": "7334d549",
   "metadata": {},
   "source": [
    "# find size of tuple"
   ]
  },
  {
   "cell_type": "code",
   "execution_count": 2,
   "id": "70adc2f8",
   "metadata": {},
   "outputs": [
    {
     "name": "stdout",
     "output_type": "stream",
     "text": [
      "type is: <class 'tuple'>\n",
      "lenght is: 5\n"
     ]
    }
   ],
   "source": [
    "t1=(1,2,3,'divya','sri')\n",
    "print('type is:',type(t1))\n",
    "print('lenght is:',len(t1))"
   ]
  },
  {
   "cell_type": "markdown",
   "id": "ad4fc993",
   "metadata": {},
   "source": [
    "# maximum and minimum element in tuple"
   ]
  },
  {
   "cell_type": "code",
   "execution_count": 3,
   "id": "591d8cb2",
   "metadata": {},
   "outputs": [
    {
     "name": "stdout",
     "output_type": "stream",
     "text": [
      "maximum element is tuple: 90\n",
      "minimum element is tuple: 0.8\n"
     ]
    }
   ],
   "source": [
    "t2=(19,0.8,90,45,2,7,13,4.8)\n",
    "print('maximum element is tuple:',max(t2))\n",
    "print('minimum element is tuple:',min(t2))"
   ]
  },
  {
   "cell_type": "markdown",
   "id": "aa71a95c",
   "metadata": {},
   "source": [
    "# create list of tuple and find its cube value"
   ]
  },
  {
   "cell_type": "code",
   "execution_count": 14,
   "id": "1259425a",
   "metadata": {},
   "outputs": [
    {
     "name": "stdout",
     "output_type": "stream",
     "text": [
      "the element and cube of element: [(2, 8), (3, 27), (4, 64)]\n"
     ]
    }
   ],
   "source": [
    "t3=[2,3,4]\n",
    "res=[(i,pow(i,3)) for i in t3]\n",
    "print('the element and cube of element:',res)"
   ]
  },
  {
   "cell_type": "markdown",
   "id": "8f232376",
   "metadata": {},
   "source": [
    "# adding tuple to list"
   ]
  },
  {
   "cell_type": "code",
   "execution_count": 23,
   "id": "696dc179",
   "metadata": {},
   "outputs": [
    {
     "name": "stdout",
     "output_type": "stream",
     "text": [
      "tuple is added to list: ['divya', 'sri', 2, 1, 4, 8]\n"
     ]
    }
   ],
   "source": [
    "t=(1,4,8)\n",
    "l=['divya','sri',2]\n",
    "l+=t\n",
    "print('tuple is added to list:',str(l))\n"
   ]
  },
  {
   "cell_type": "markdown",
   "id": "f36dc7f3",
   "metadata": {},
   "source": [
    "# adding list to tuple"
   ]
  },
  {
   "cell_type": "code",
   "execution_count": 24,
   "id": "126e96bd",
   "metadata": {},
   "outputs": [
    {
     "name": "stdout",
     "output_type": "stream",
     "text": [
      "list is added to tuple: (1, 4, 8, 'divya', 'sri', 2)\n"
     ]
    }
   ],
   "source": [
    "t=(1,4,8)\n",
    "l=['divya','sri',2]\n",
    "res=tuple(list(t)+l)\n",
    "print('list is added to tuple:',str(res))\n"
   ]
  },
  {
   "cell_type": "markdown",
   "id": "09145eca",
   "metadata": {},
   "source": [
    "# nested tuple"
   ]
  },
  {
   "cell_type": "code",
   "execution_count": 44,
   "id": "7b922ae6",
   "metadata": {},
   "outputs": [
    {
     "name": "stdout",
     "output_type": "stream",
     "text": [
      "1\n",
      "['apple', 7, 9]\n",
      "apple\n",
      "(6, 1)\n"
     ]
    }
   ],
   "source": [
    "lt=((1,2),['apple',7,9],(6,1))\n",
    "print(lt[2][1])\n",
    "print(lt[1])\n",
    "print(lt[1][0])\n",
    "print(lt[-1])\n",
    "del lt"
   ]
  },
  {
   "cell_type": "code",
   "execution_count": 47,
   "id": "f8422112",
   "metadata": {},
   "outputs": [
    {
     "name": "stdout",
     "output_type": "stream",
     "text": [
      "11\n",
      "['d', 0, 0]\n",
      "[0, 1, 2, 3]\n",
      "['a', 'b', 'c', 'd', 0, 0, 0, 1, 2, 3, 4]\n",
      "3\n"
     ]
    }
   ],
   "source": [
    "lt1=['a','b','c','d',0,0,0,1,2,3,4]\n",
    "print(len(lt1))\n",
    "print(lt1[3:6])\n",
    "print(lt1[-5:-1])\n",
    "print(lt1[:])\n",
    "print(lt1.count(0))"
   ]
  },
  {
   "cell_type": "code",
   "execution_count": null,
   "id": "df82e370",
   "metadata": {},
   "outputs": [],
   "source": []
  }
 ],
 "metadata": {
  "kernelspec": {
   "display_name": "Python 3",
   "language": "python",
   "name": "python3"
  },
  "language_info": {
   "codemirror_mode": {
    "name": "ipython",
    "version": 3
   },
   "file_extension": ".py",
   "mimetype": "text/x-python",
   "name": "python",
   "nbconvert_exporter": "python",
   "pygments_lexer": "ipython3",
   "version": "3.8.8"
  }
 },
 "nbformat": 4,
 "nbformat_minor": 5
}
